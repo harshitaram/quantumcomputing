{
 "cells": [
  {
   "cell_type": "markdown",
   "id": "f4fed0ae-42b5-4315-b9d3-eeb2276b416c",
   "metadata": {
    "tags": []
   },
   "source": [
    "# Introduction to Quantum Computing and Qiskit\n",
    "\n",
    "U. of Chicago, EPiQC, https://www.epiqc.cs.uchicago.edu/, 2022\n",
    "\n",
    "<hr class=\"intro\">\n",
    "\n",
    "### Navigation Guide:\n",
    "\n",
    " - Scroll up and down to read this Jupyter notebook.\n",
    " - Click anywhere in the **Outline** to jump to that section.\n",
    " - Text Cells:\n",
    "     - If you accidentally click `Enter` on a cell (which puts the cell in Edit mode), \n",
    "press `Shift+Enter` to run the cell (to get back to Command mode).\n",
    " - Code Cells:\n",
    "     - To edit any Qiskit or Python code, click on the cell (to enter Edit mode).\n",
    "     - Press `Shift+Enter` to run the code in the cell.\n",
    "     - Cells will be numbered `[1]`, `[2]`, `[3]`, ... in the order they are run. \n",
    " - To start this lesson all over, you can restart the notebook by clicking on `Kernel` in the Menu Bar and choose `Restart Kernel and Clear All Outputs...`\n",
    "\n",
    "<hr class=\"intro\">"
   ]
  },
  {
   "cell_type": "markdown",
   "id": "bb93bcc1-a0a7-4d43-bbef-844a34a88508",
   "metadata": {},
   "source": [
    "# Lesson 2a: Quantum States in Qiskit\n",
    "\n",
    "<hr class=\"intro\">\n",
    "\n",
    "### Outline\n",
    "\n",
    "**[0. Teacher Introduction](#lesson4intro)**\n",
    "\n",
    "\n",
    "**[1. Student Exercise 1: How Qiskit Represents Quantum States](#lesson4ex1)**\n",
    "\n",
    "* [1.1 Questions](#lesson4q1)\n",
    "\n",
    "**[2. Student Exercise 2: Quantum States and Operations](#lesson4ex2)**\n",
    "\n",
    "* [2.1 Questions](#lesson4q2)\n",
    "\n",
    "**[3. Student Exercise 3: Peeking Inside a Quantum Circuit](#lesson4ex3)**\n",
    "\n",
    "* [3.1 Questions](#lesson4q3)\n",
    "\n",
    "**[4. Student Exercise 4: Visualizing Quantum States with the Bloch Sphere](#lesson4ex4)**\n",
    "\n",
    "* [4.1 Questions](#lesson4q4)\n",
    "\n",
    "**[5.  Using Composer to explore a new gate](#lesson4ex5)**\n",
    "\n",
    "**[6.  Constructing circuits with input / output pairs](#lesson4ex6)**\n",
    "\n",
    "<hr class=\"intro\">"
   ]
  },
  {
   "attachments": {},
   "cell_type": "markdown",
   "id": "bbf16815-71eb-47f6-8479-2523edc3942c",
   "metadata": {
    "jp-MarkdownHeadingCollapsed": true,
    "tags": []
   },
   "source": [
    "## Introduction <a id=\"lesson4intro\"></a>\n",
    "\n",
    "In this lesson, we will learn how Qiskit stores quantum states.\n",
    "\n",
    "### Decomposing the Classical Computer\n",
    "\n",
    "Everything stored on a classical computer is in the form of a number. This includes every letter, color, image, and audio file on the computer you are using right now.\n",
    "\n",
    "All of those numbers are stored in binary. A binary digit (also called a **bit**) is either a 0 or a 1. This means that all of the information stored on a computer is stored as sequences of 0's and 1's, something like: `00010101010001010.....`\n",
    "\n",
    "<img src=\"https://dagm.io/labfiles/Binary.png\" alt=\"center\" width=\"170\">\n",
    "\n",
    "Programming languages (like Python) typically hide these details, so programmers usually don't need to worry about bits. If you want to use the color \"red\", your programming language will be able to use the word `red` instead of the string of bits (like `11111111 00000000 00000000`) that represents \"red\". This makes it much easier to program a computer.\n",
    "\n",
    "### Decomposing the Quantum Computer\n",
    "\n",
    "**Quantum computers** have programming languages, but they have not been developed as far as the programming languages we have for classical computers. Programming for quantum computers involves more of the underlying details and the math. Therefore, to program a quantum computer, it is helpful to learn how quantum computers store information in the form of quantum bits. \n",
    "\n",
    "### Running a Cell  \n",
    "\n",
    "Remember that you can run the cell by clicking on it then pressing `Shift + Enter`."
   ]
  },
  {
   "cell_type": "markdown",
   "id": "6a8aaaca-74a7-4daa-8add-dbcc7b70ff26",
   "metadata": {
    "tags": []
   },
   "source": [
    "## Student Exercise 1: How Qiskit Represents Quantum States <a id=\"lesson4ex1\"></a>\n",
    "\n",
    "There are two main ways to write quantum states. \n",
    "\n",
    "1. **Vector notation**\n",
    "2. **Bra-ket notation**\n",
    "\n",
    "### Step 1: Create a quantum state in Qiskit from a label\n",
    "\n",
    "How exactly does Qiskit store a quantum state? Qiskit uses a type of object called a `Statevector`. \n",
    "\n",
    "<p class=\"note\">    \n",
    "    <b>Statevector</b>: The <code>Statevector</code> class represents a quantum state vector in Qiskit. It has methods for creating a <code>Statevector</code> and manipulating the quantum state. It also has methods that provide information about measurements on the quantum state.\n",
    "<br>\n",
    "<br>\n",
    "(Qiskit documentation: <a href=\"https://qiskit.org/documentation/stubs/qiskit.quantum_info.Statevector.html\">Statevector</a>)\n",
    "</p>\n",
    "<p class=\"note\">    \n",
    "    <b>Statevector.from_label()</b> - Return a <code>Statevector</code> from one of the available labels.\n",
    "</p>\n",
    "\n",
    "The `from_label()` method is one way to create a `Statevector`. \n",
    "\n",
    "| Label | Statevector          |\n",
    "| ----- | ---------------------|\n",
    "| \"0\"   | [1, 0] (The 0 state) |\n",
    "| \"1\"   | [0, 1] (The 1 state) |\n",
    "\n",
    "Run the next cell to make the **zero state** from the label \"0\"."
   ]
  },
  {
   "cell_type": "code",
   "execution_count": null,
   "id": "50eec2cf-6f4b-4932-a691-242fce57c743",
   "metadata": {},
   "outputs": [],
   "source": [
    "# Import\n",
    "from qiskit.quantum_info import Statevector\n",
    "\n",
    "# Create the zero state\n",
    "state0 = Statevector.from_label(\"0\")"
   ]
  },
  {
   "attachments": {},
   "cell_type": "markdown",
   "id": "f6ab6de7-b440-4aa4-bd8b-2051310a706d",
   "metadata": {
    "tags": []
   },
   "source": [
    "`state0` now represents the zero state in Qiskit. \n",
    "\n",
    "It would be great if we could display this state to see what it looks like. \n",
    "\n",
    "Next, we will show you how to display a `Statevector` in vector notation.\n",
    "\n",
    "### Step 2: Vector notation\n",
    "\n",
    "One way to write a quantum state is called **vector notation**.\n",
    "\n",
    "<img src=\"https://dagm.io/labfiles/VectorNotation.png\" alt=\"center\" width=\"600\">\n",
    "\n",
    "<p class=\"note\">    \n",
    "    <b>array_to_latex()</b>: The <code>array_to_latex()</code> function in Qiskit allows us to visualize a vector.\n",
    "<br>\n",
    "<br>\n",
    "(Qiskit documentation: <a href=\"https://qiskit.org/documentation/stubs/qiskit.visualization.array_to_latex.html\">array_to_latex</a>)\n",
    "</p>\n",
    "\n",
    "Run the next cell to see what this state looks like in vector notation. "
   ]
  },
  {
   "cell_type": "code",
   "execution_count": null,
   "id": "452f4026-4c7e-451a-b02b-c0613eb27f31",
   "metadata": {},
   "outputs": [],
   "source": [
    "# Import\n",
    "from qiskit.quantum_info import Statevector\n",
    "from qiskit.visualization import array_to_latex\n",
    "\n",
    "# Create the zero state\n",
    "state0 = Statevector.from_label(\"0\")\n",
    "# Display the state in vector notation\n",
    "array_to_latex(state0, prefix=\"\\\\text{state0} =\")"
   ]
  },
  {
   "cell_type": "markdown",
   "id": "cedde143-da95-4c8a-bb6b-9a857cedce02",
   "metadata": {},
   "source": [
    "Hopefully you saw the zero state represented as the vector $[1, 0]$. (Qiskit displays the vector as a row vector.)\n",
    "\n",
    "\n",
    "### Step 3: Create a quantum state in Qiskit from a vector\n",
    "\n",
    "The `from_label()` method is a convenient way to create a `Statevector` in Qiskit, but it is limited to states that can be described by one of the available labels. (See the [*Qiskit documentation*](https://qiskit.org/documentation/stubs/qiskit.quantum_info.Statevector.from_label.html#qiskit.quantum_info.Statevector.from_label) for a list of the six possible labels.)\n",
    "\n",
    "<p class=\"note\">    \n",
    "    <b>Statevector([a b])</b> - Using <code>Statevector()</code> directly on a vector <code>[a b]</code> creates the quantum state vector $[a, b]$ in Qiskit.\n",
    "</p>\n",
    "\n",
    "You can also directly give Qiskit a list of numbers that describes the vector. \n",
    "\n",
    "Let's create the quantum state\n",
    "$$\\begin{bmatrix} \\frac{1}{2} \\\\ \\frac{\\sqrt{3}}{2} \\end{bmatrix}.$$\n",
    "\n",
    "Note: You can't make this state with the `from_label()` method!"
   ]
  },
  {
   "cell_type": "code",
   "execution_count": null,
   "id": "a3c41e71-1826-4a03-a9be-0fecc1529cfb",
   "metadata": {},
   "outputs": [],
   "source": [
    "# Import\n",
    "from qiskit.quantum_info import Statevector\n",
    "from qiskit.visualization import array_to_latex\n",
    "from math import sqrt\n",
    "\n",
    "# Create a Statevector\n",
    "state = Statevector([1/2, sqrt(3)/2])\n",
    "\n",
    "# Display the state\n",
    "#  This example uses the optional prefix parameter\n",
    "#\n",
    "array_to_latex(state, prefix=\"\\\\text{state} =\")"
   ]
  },
  {
   "attachments": {},
   "cell_type": "markdown",
   "id": "b1ea6ee6-d9ed-4026-bfd5-9da2a5b7bf1c",
   "metadata": {
    "tags": []
   },
   "source": [
    "### Questions\n",
    "\n",
    "<div class=\"questions\">\n",
    "\n",
    "<p class=\"question\"> \n",
    "    Explore: Try running this cell above again with different vectors in place of <code>[1/2, sqrt(3)/2]</code> </p>\n",
    "\n",
    "Suggestions: \n",
    "- Try it with negative numbers.\n",
    "- Try it with decimals.\n",
    "- Try it with complex numbers. (Use `1.j` for the imaginary number $i$.) \n",
    "- A quantum state vector needs to satisfy the condition $|a|^2 + |b|^2 = 1$, but you can even it try it with numbers that don't satisfy the condition.\n",
    "</div>\n",
    "\n",
    "### Step 2: Bra-ket notation\n",
    "\n",
    "Another way to write down a quantum state is by using **bra-ket notation**.\n",
    "\n",
    "<img src=\"https://dagm.io/labfiles/Braket.png\" alt=\"center\" width=\"600\">\n",
    "\n",
    "Quantum scientists often use bra-ket notation to write quantum states. \n",
    "\n",
    "<p class=\"note\">    \n",
    "    <b>Statevector.draw()</b> - Use <code>draw()</code> to visualize a Statevector. \n",
    "</p>\n",
    "\n",
    "Qiskit is able to display a quantum state in bra-ket notation using the `draw()` method's `'latex'` option.\n",
    "\n",
    "Run the next cell to see `state0` displayed in bra-ket notation:"
   ]
  },
  {
   "cell_type": "code",
   "execution_count": null,
   "id": "68956183-a915-4438-a563-c97f0be610ef",
   "metadata": {},
   "outputs": [],
   "source": [
    "# Import\n",
    "from qiskit.quantum_info import Statevector\n",
    "from qiskit.visualization import array_to_latex\n",
    "\n",
    "# Create the zero state\n",
    "state0 = Statevector.from_label(\"0\")\n",
    "# Display the state in vector notation\n",
    "# array_to_latex(state0, prefix=\"\\\\text{state0} =\")\n",
    "# Display the state in bra-ket notation\n",
    "state0.draw('latex')\n",
    "\n",
    "# Note: This will only display the last thing to print out!!"
   ]
  },
  {
   "cell_type": "markdown",
   "id": "88177c0d-09b9-49a1-9baa-12593a178406",
   "metadata": {},
   "source": [
    "### Questions: <a id=\"lesson4q1\"></a>\n",
    "\n",
    "<div class=\"questions\">\n",
    "\n",
    "<p class=\"question\">\n",
    "1. Create the \"one state\" $|1\\rangle$ in Qiskit using any of the methods described above.\n",
    "</p>\n",
    "\n",
    "<p class=\"question\">\n",
    "2. Display the state in vector notation.\n",
    "</p>    \n",
    "\n",
    "<p class=\"question\">\n",
    "3. Display the state in bra-ket notation.\n",
    "</p>     \n",
    "    \n",
    "Complete the Qiskit code in the code cells below. We separate it into two because each cell only shows the last thing printed out.\n",
    "</div>"
   ]
  },
  {
   "cell_type": "code",
   "execution_count": null,
   "id": "d4891084-72ac-4606-8a14-b80ad399bd21",
   "metadata": {
    "tags": []
   },
   "outputs": [],
   "source": [
    "# Create the one state\n",
    "state1 = \n",
    "\n",
    "# Display the one state in vector notation\n"
   ]
  },
  {
   "cell_type": "code",
   "execution_count": null,
   "id": "370a5cb5-7925-459d-892f-2244e6be06a0",
   "metadata": {},
   "outputs": [],
   "source": [
    "# Create the one state\n",
    "state1 = \n",
    "\n",
    "# Display the one state in bra-ket notation\n"
   ]
  },
  {
   "attachments": {},
   "cell_type": "markdown",
   "id": "e75c72fd-eaa0-4be5-abf6-ea97dad4efc8",
   "metadata": {
    "tags": []
   },
   "source": [
    "## Student Exercise 2: Quantum States and Operations <a id=\"lesson4ex2\"></a>\n",
    "\n",
    "In this exercise, we will use Qiskit to see how a quantum state is changed by a quantum operation.\n",
    "\n",
    "### Step 1: H Gate\n",
    "\n",
    "We are going to use Qiskit to simulate the following **H gate** operation on the 1 state:\n",
    "\n",
    "<img src=\"https://dagm.io/labfiles/HGate.png\" alt=\"center\" width=\"270\">\n",
    "\n",
    "### Question:\n",
    "\n",
    "<div class=\"questions\">\n",
    "    \n",
    "<p class=\"question\"> Start by making a 1-qubit circuit that contains a single H gate. </p>\n",
    "\n",
    "Complete the Qiskit code in the following cell.\n",
    "\n",
    "Then, run the cell.\n",
    "\n",
    "</div>"
   ]
  },
  {
   "cell_type": "code",
   "execution_count": null,
   "id": "6b081917-78d7-45be-9fd6-3d2ebc4f1aad",
   "metadata": {},
   "outputs": [],
   "source": [
    "from qiskit import QuantumCircuit\n",
    "\n",
    "# Create a circuit with an H gate\n",
    "circuitH = \n",
    "\n",
    "\n",
    "# Visualize the circuit.\n"
   ]
  },
  {
   "cell_type": "markdown",
   "id": "6c30343a-cb43-49cf-b828-4cc603ac9da1",
   "metadata": {},
   "source": [
    "### Step 2: Apply the H gate\n",
    "\n",
    "<p class=\"note\">    \n",
    "    <b>Statevector.evolve()</b> - Apply a quantum operation to a <code>Statevector</code> and return the resulting <code>Statevector</code>.\n",
    "</p>\n",
    "\n",
    "We use the `evolve()` method to see how a quantum state evolves when it goes through a quantum circuit made out of quantum operations.\n",
    "\n",
    "We'll use the `Statevector`'s `evolve()` method to see how the 1 state is changed by the **H gate** operation."
   ]
  },
  {
   "cell_type": "code",
   "execution_count": null,
   "id": "3cda1784-f955-484c-8c28-133b40a97184",
   "metadata": {},
   "outputs": [],
   "source": [
    "from qiskit import QuantumCircuit\n",
    "from qiskit.quantum_info import Statevector\n",
    "from qiskit.visualization import array_to_latex\n",
    "from math import sqrt\n",
    "\n",
    "# Create a circuit with an H gate\n",
    "circuitH = # fill in code you wrote above\n",
    "\n",
    "# Create the one state\n",
    "state = Statevector.from_label()\n",
    "\n",
    "# Apply the H gate to the one state\n",
    "state2 = \n",
    "\n",
    "# see the result in bra-ket notation"
   ]
  },
  {
   "cell_type": "code",
   "execution_count": null,
   "id": "a6f5b2e5-cdb9-4e3b-8b44-f559cbce2e77",
   "metadata": {},
   "outputs": [],
   "source": [
    "# See the result in bra-ket notation\n",
    "state2.draw('latex')"
   ]
  },
  {
   "cell_type": "code",
   "execution_count": null,
   "id": "e2c5cd37-cd87-40e1-88fd-28b4fe9ec66a",
   "metadata": {},
   "outputs": [],
   "source": [
    "# See the result in vector notation\n",
    "array_to_latex(state2, prefix=\"\\\\text{state2} =\")"
   ]
  },
  {
   "cell_type": "markdown",
   "id": "054a3047-f963-4b2f-81fa-3cb6e9272598",
   "metadata": {},
   "source": [
    "Did you see the result that you expected?"
   ]
  },
  {
   "cell_type": "markdown",
   "id": "967ce231-4ca1-4418-9fd5-08e97bf11acb",
   "metadata": {},
   "source": [
    "### Questions: <a id=\"lesson4q1\"></a>\n",
    "\n",
    "Let's see what happens when you apply the H gate twice in a row.\n",
    "\n",
    "<div class=\"questions\">\n",
    "\n",
    "<code>state2</code> is the result of applying the H gate once to the 1 state.\n",
    "\n",
    "<p class=\"question\">\n",
    "Apply the H gate again.\n",
    "</p>\n",
    "\n",
    "Complete the Qiskit code in the cell below.\n",
    "</div>"
   ]
  },
  {
   "cell_type": "code",
   "execution_count": null,
   "id": "6189af55-ca0d-4d8f-9500-7c7e18d23a4f",
   "metadata": {},
   "outputs": [],
   "source": [
    "# Apply the H gate to state2\n",
    "[ENTER YOUR CODE HERE]\n",
    "\n",
    "# Display the result in bra-ket notation\n",
    "[ENTER YOUR CODE HERE]"
   ]
  },
  {
   "attachments": {},
   "cell_type": "markdown",
   "id": "7ca52b05-4de9-47b2-bdcd-2c2493784e82",
   "metadata": {
    "tags": []
   },
   "source": [
    "## Student Exercise 3: Peeking Inside a Quantum Circuit  <a id=\"lesson4ex3\"></a>\n",
    "\n",
    "What if you have a circuit made out of several quantum operations?\n",
    "\n",
    "We might want to know what the quantum state is at several points within the circuit.\n",
    "\n",
    "Qiskit allows us to see the quantum states at certain points through a quantum circuit.\n",
    "\n",
    "### Step 1: Create a circuit\n",
    "\n",
    "First, create the following quantum circuit with 3 gates. \n",
    "\n",
    "<img src=\"https://dagm.io/labfiles/Circuit1.png\" alt=\"center\" width=\"325\">\n",
    "\n",
    "It applies the **NOT gate**, then the **H gate**, then the **NOT gate** again.\n",
    "\n",
    "### Question:\n",
    "\n",
    "<div class=\"questions\">\n",
    "\n",
    "<p class=\"question\"> Complete the Qiskit code in the following cell to create this circuit.</p>\n",
    "\n",
    "</div>"
   ]
  },
  {
   "cell_type": "code",
   "execution_count": null,
   "id": "bad9eade-6ccc-425f-8538-5e8ded5679d4",
   "metadata": {},
   "outputs": [],
   "source": [
    "from qiskit import QuantumCircuit\n",
    "from qiskit.quantum_info import Statevector\n",
    "from qiskit.visualization import array_to_latex\n",
    "from math import sqrt\n",
    "\n",
    "# Create circuit\n",
    "circuitXHX = QuantumCircuit(1)\n",
    "\n",
    "# Add quantum gates\n",
    "circuitXHX.x(0)\n",
    "circuitXHX.h(0)\n",
    "circuitXHX.x(0)\n",
    "\n",
    "# Display the circuit\n",
    "circuitXHX.draw('mpl')"
   ]
  },
  {
   "attachments": {},
   "cell_type": "markdown",
   "id": "f51f4c04-9c33-4718-a0bd-dc9a0ba173f5",
   "metadata": {},
   "source": [
    "### Step 2: Quantum states in the circuit\n",
    "\n",
    "Let's apply these operations to the superposition state\n",
    "$$\\frac{1}{\\sqrt{2}}|0\\rangle + \\frac{1}{\\sqrt{2}}|1\\rangle.$$\n",
    "\n",
    "### Question: \n",
    "\n",
    "<div class=\"questions\">\n",
    "\n",
    "Suppose $\\frac{1}{\\sqrt{2}}|0\\rangle + \\frac{1}{\\sqrt{2}}|1\\rangle$ is the initial state in the following circuit:\n",
    "\n",
    "<img src=\"https://dagm.io/labfiles/Circuit1.png\" alt=\"center\" width=\"275\">\n",
    "    \n",
    "<p class=\"question\"> Before you run the following cells, first figure out how this state evolves through the circuit. </p>\n",
    "\n",
    "a. What do you think the state is after the first NOT gate?\n",
    "\n",
    "b. What do you think the state is after the H gate?\n",
    "\n",
    "c. What do you think the state is after the second NOT gate?\n",
    "\n",
    "</div>"
   ]
  },
  {
   "cell_type": "markdown",
   "id": "b0623819-ff1d-494b-ba0e-9170d8c1e7b8",
   "metadata": {},
   "source": [
    "**DOUBLE-CLICK ON THIS CELL and WRITE YOUR ANSWER HERE FIRST:**\n",
    "\n",
    "Your Answer:\n",
    "\n",
    "a.\n",
    "    \n",
    "b.\n",
    "    \n",
    "c.\n",
    "\n"
   ]
  },
  {
   "cell_type": "markdown",
   "id": "f57ab9bc-3521-440d-a137-d303c9c9d4cc",
   "metadata": {},
   "source": [
    "<details>\n",
    "<summary>Click here for hints/check your answers</summary>\n",
    "\n",
    "a. The NOT gate doesn't change the state. It's still  $\\frac{1}{\\sqrt{2}}|0\\rangle + \\frac{1}{\\sqrt{2}}|1\\rangle$.\n",
    "\n",
    "b. The H gate changes the state to the 0 state.\n",
    "\n",
    "c. The second NOT gate changes the 0 state to the 1 state.\n",
    "</details>"
   ]
  },
  {
   "cell_type": "markdown",
   "id": "cb812fd9-7b33-4189-99a4-7f7e6fc56e42",
   "metadata": {},
   "source": [
    "### Step 3: Add Statevectors\n",
    "\n",
    "Use Qiskit to see what the state is at each step through the circuit.\n",
    "\n",
    "We will modify the Qiskit code that we ran in the previous cell. \n",
    "\n",
    "At each step of the circuit, we will assign a `Statevector` object to a variable, so we can look at it after we run the cell."
   ]
  },
  {
   "cell_type": "code",
   "execution_count": null,
   "id": "eac8eb27-9321-4f1a-92aa-a27944b2303f",
   "metadata": {},
   "outputs": [],
   "source": [
    "from qiskit import QuantumCircuit\n",
    "from qiskit.quantum_info import Statevector\n",
    "from qiskit.visualization import array_to_latex\n",
    "from math import sqrt\n",
    "\n",
    "# Initial state to 1/rt(2), 1/rt(2)\n",
    "state0 = \n",
    "\n",
    "# Create circuit\n",
    "circuit = QuantumCircuit(1)\n",
    "\n",
    "# NOT gate\n",
    "circuit.x(0)\n",
    "state1 = state0.evolve(circuit)  # State right after the NOT gate - assign to state1\n",
    "\n",
    "# H gate\n",
    "circuit.h(0)\n",
    "state2 = state0.evolve(circuit)  # State right after the H gate - assign to state2\n",
    "\n",
    "# NOT gate (as before)\n",
    "\n",
    "\n",
    "# Display the circuit\n",
    "circuit.draw('mpl')"
   ]
  },
  {
   "cell_type": "code",
   "execution_count": null,
   "id": "ca1fc61d-6181-4240-906e-86b60435fdb6",
   "metadata": {},
   "outputs": [],
   "source": [
    "# Display the Statevector (in bra-ket notation) right after the first NOT gate:\n",
    "state1.draw('latex')"
   ]
  },
  {
   "cell_type": "markdown",
   "id": "c0d633ec-bbb9-46f3-b826-59f6afa4e2a0",
   "metadata": {},
   "source": [
    "### Questions: <a id=\"lesson4q1\"></a>\n",
    "\n",
    "<div class=\"questions\">\n",
    "\n",
    "<p class=\"question\">\n",
    "1. Display the Statevector right after the H gate.    \n",
    "</p>\n",
    "<p class=\"question\">\n",
    "2. Display the Statevector right after the second X gate.    \n",
    "</p>\n",
    "    \n",
    "Fill in the Qiskit code in the code cells below.\n",
    "    \n",
    "Run the cells.\n",
    "    \n",
    "Doesn't it match what you expected?\n",
    "</div>"
   ]
  },
  {
   "cell_type": "code",
   "execution_count": null,
   "id": "4b3de44e-4067-41f4-a527-de7c528e6ab3",
   "metadata": {},
   "outputs": [],
   "source": [
    "# Display the Statevector right after the H gate:\n",
    "[ENTER YOUR CODE HERE]"
   ]
  },
  {
   "cell_type": "code",
   "execution_count": null,
   "id": "6eb9fbb3-6950-4cf2-b511-349663dc4b24",
   "metadata": {},
   "outputs": [],
   "source": [
    "# Display the Statevector right after the second X gate:\n",
    "[ENTER YOUR CODE HERE]"
   ]
  },
  {
   "cell_type": "markdown",
   "id": "759d862f-99a8-4bc0-93dc-c246f707625f",
   "metadata": {
    "tags": []
   },
   "source": [
    "## Student Exercise 4:  Visualizing Quantum States with the Bloch Sphere <a id=\"lesson4ex4\"></a>\n",
    "\n",
    "One nice way to visualize a qubit is by looking at a 3-dimensional representation of a qubit called the **Bloch Sphere**.\n",
    "\n",
    "We won't be using the Bloch Sphere in the rest of this Qiskit module, but it is fun to try out some of the following visualization functions in Qiskit. \n",
    "\n",
    "A qubit state in the Bloch Sphere representation is a vector from the origin to a point on the surface of a 3-dimensional sphere. \n",
    "\n",
    "**Quantum operations** can change where the vector points on the surface of this sphere.\n",
    "\n",
    "### Step 1: Zero state\n",
    "\n",
    "The `draw()` method for `Statevector` objects has an option called `'bloch'` that will produce a visualization of the Bloch Sphere representation of a quantum state.\n",
    "\n",
    "Try running the next cell to see what the Bloch Sphere vector looks like for the zero state $|0\\rangle$. "
   ]
  },
  {
   "cell_type": "code",
   "execution_count": null,
   "id": "ccdd0c26-6385-4757-adc9-ebb28994282a",
   "metadata": {},
   "outputs": [],
   "source": [
    "from qiskit import QuantumCircuit\n",
    "from qiskit.quantum_info import Statevector\n",
    "from qiskit.visualization import array_to_latex\n",
    "from math import sqrt\n",
    "\n",
    "state0 = Statevector.from_label(\"0\")\n",
    "\n",
    "state0.draw('bloch')"
   ]
  },
  {
   "cell_type": "markdown",
   "id": "fe89fe60-6c2a-4ed8-932e-94b529d4d84c",
   "metadata": {},
   "source": [
    "### Step 2: Explore\n",
    "Imagine the Bloch Sphere as a globe. \n",
    "\n",
    "Now try out a bunch of different states and see where they point. Do you see a trend? Use this section below to play around with the different questions in Gradescope."
   ]
  },
  {
   "cell_type": "code",
   "execution_count": null,
   "id": "d128deb7-d8db-4db0-ad85-eaf6bb04aaf7",
   "metadata": {},
   "outputs": [],
   "source": [
    "from qiskit import QuantumCircuit\n",
    "from qiskit.quantum_info import Statevector\n",
    "from qiskit.visualization import array_to_latex\n",
    "from math import sqrt\n",
    "\n",
    "state_explore = Statevector([1/2, sqrt(3)/2])\n",
    " # [ENTER YOUR CODE HERE]\n",
    "\n",
    "state_explore.draw('bloch')"
   ]
  },
  {
   "cell_type": "markdown",
   "id": "7369db06-00e9-4c94-929f-0307498d6585",
   "metadata": {
    "tags": []
   },
   "source": [
    "## Student Exercise 5:  Using Composer to explore a new gate <a id=\"lesson4ex5\"></a>\n",
    "\n",
    "If you don't know a gate, one way to explore its behavior is through experimentation with IBM Composer.\n",
    "Let's look at the output from the qubit circuit in Composer - a circle with a radius that has color. \n",
    "Let's see what this looks like with four of our states that we understand. Using the gates, make q\\[0\\] be the original value, q\\[1\\] be a not gate, q\\[2\\] be an H gate, and q\\[3\\] be a not gate followed by an H gate.\n",
    "\n",
    "<img src=\"https://dagm.io/labfiles/Circuit2.png\" alt=\"center\" width=\"275\">\n",
    "\n",
    "Now answer the subquestions of question 5 in Gradescope about what the radius and color of the circles mean.\n"
   ]
  },
  {
   "cell_type": "markdown",
   "id": "1db33b53-22d1-4064-8d8a-fa454354dc2b",
   "metadata": {
    "tags": []
   },
   "source": [
    "Now you are in position to use Composer to try out a new gate!!! Let's try the S gate. On q\\[4\\], place an S gate and compare to q\\[0\\]. Then add an not gate before the S gate and compare to q\\[1\\]. Then add an H gate and compare to q\\[3]. Finally, remove the not gate and compare to \\[2\\]. \n"
   ]
  },
  {
   "cell_type": "markdown",
   "id": "be7c79a0-c43d-4c18-9a04-f4c191ed3259",
   "metadata": {
    "tags": []
   },
   "source": [
    "## Student Exercise 6:  Constructing circuits with input / output pairs <a id=\"lesson4ex6\"></a>\n",
    "\n",
    "Now that you have gained intuition on how the gates work (and can gain more by playing with them through IBM Composer), you're ready to create some simple circuits from input output pairs. The key to solving these is to think about the individual differences between the starting point and the ending point, and how to get there. Remember that Composer always starts at |0>, so if you want to try out your answer if the starting point is something other than |0>, you'll need to initialize with some gates first.\n",
    "\n",
    "You can find the exact questions within Gradescope. You may use IBM Composer, IBM Quantum Lab, or paper / pencil in order to play around with solving them.\n",
    "\n",
    "You must submit your answer by putting the gates into IBM Composer (remember to initialize properly if it doesn't start at |0>) and taking a screenshot of just the circuit, including the circles on the right. Single-qubit problems must always be shown as q\\[0\\]. For multi-qubit questions, position them such that the circuit looks the same on the screen and in composer, knowing that Qiskit interprets it backwards in the histogram.\n"
   ]
  },
  {
   "cell_type": "code",
   "execution_count": null,
   "id": "055b0ef6",
   "metadata": {},
   "outputs": [],
   "source": []
  }
 ],
 "metadata": {
  "kernelspec": {
   "display_name": "Python 3 (ipykernel)",
   "language": "python",
   "name": "python3"
  },
  "language_info": {
   "codemirror_mode": {
    "name": "ipython",
    "version": 3
   },
   "file_extension": ".py",
   "mimetype": "text/x-python",
   "name": "python",
   "nbconvert_exporter": "python",
   "pygments_lexer": "ipython3",
   "version": "3.9.4"
  },
  "widgets": {
   "application/vnd.jupyter.widget-state+json": {
    "state": {},
    "version_major": 2,
    "version_minor": 0
   }
  }
 },
 "nbformat": 4,
 "nbformat_minor": 5
}
